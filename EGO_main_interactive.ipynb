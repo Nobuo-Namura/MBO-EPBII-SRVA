{
 "cells": [
  {
   "cell_type": "markdown",
   "id": "30bd9368-3946-4ed8-a112-7bcfb65aefb6",
   "metadata": {},
   "source": [
    "## Interactive multi-objective Bayesian optimization"
   ]
  },
  {
   "cell_type": "markdown",
   "id": "3178272f-3aa1-4465-acf6-7891960e8cd3",
   "metadata": {},
   "source": [
    "This notebook enables you to interactively optimize multi-objective problems whose objective functions cannot be evaluated automatically, and is intended for use in problems with\n",
    "* manual mesh generation and performance evaluation in computational fluid dynamics (CFD) and finite element analysis (FEA)\n",
    "* experiment-based function evaluation where computational simulation is unavailable\n",
    "* etc."
   ]
  },
  {
   "cell_type": "markdown",
   "id": "84696445-774e-4cdc-abf8-c0b3ae45748b",
   "metadata": {},
   "source": [
    "Copyright (c) 2022 Nobuo Namura  \n",
    "This Python code is for MBO-EPBII-SRVA and MBO-EPBII published in the following articles:\n",
    "\n",
    "* [N. Namura, \"Surrogate-Assisted Reference Vector Adaptation to Various Pareto Front Shapes for Many-Objective Bayesian Optimization,\" IEEE Congress on Evolutionary Computation, Krakow, Poland, pp.901-908, 2021.](https://doi.org/10.1109/TEVC.2017.2693320)\n",
    "* [N. Namura, K. Shimoyama, and S. Obayashi, \"Expected Improvement of Penalty-based Boundary Intersection for Expensive Multiobjective Optimization,\" IEEE Transactions on Evolutionary Computation, vol. 21, no. 6, pp. 898-913, 2017.](https://doi.org/10.1109/CEC45853.2021.9504917)\n",
    "\n",
    "Please cite the article(s) if you use the code.  \n",
    "This code was developed with Python 3.6.5.  \n",
    "This code except below is released under the MIT License, see LICENSE.txt.  \n",
    "The code in \"EA_in_DEAP\" is released under the GNU LESSER GENERAL PUBLIC LICENSE, see EA_in_DEAP/LICENSE.txt."
   ]
  },
  {
   "cell_type": "markdown",
   "id": "1f8f849c-1517-4163-b745-3c47cb8c9a54",
   "metadata": {},
   "source": [
    "### 0. Import\n",
    "You need to install packages in requirement.txt by \"pip install -r requirements.txt\""
   ]
  },
  {
   "cell_type": "code",
   "execution_count": 1,
   "id": "9e710624-38e7-44b7-a099-3990a72f5066",
   "metadata": {},
   "outputs": [],
   "source": [
    "import numpy as np\n",
    "import pandas as pd\n",
    "import warnings\n",
    "import matplotlib.pyplot as plt\n",
    "from mpl_toolkits.mplot3d import Axes3D\n",
    "import os\n",
    "import shutil\n",
    "from kriging import Kriging\n",
    "import test_problem"
   ]
  },
  {
   "cell_type": "markdown",
   "id": "b4db1367-bf5a-4c26-ad37-e8d79a431544",
   "metadata": {},
   "source": [
    "### 1. Setup"
   ]
  },
  {
   "cell_type": "markdown",
   "id": "1c7742c0-c5e2-4cfd-92f8-e28dc9fbd36e",
   "metadata": {},
   "source": [
    "#### Problem definition  \n",
    "You need to edit here for solving your problem"
   ]
  },
  {
   "cell_type": "code",
   "execution_count": 2,
   "id": "3c9e1971-711c-4774-b1e3-854c872865cc",
   "metadata": {},
   "outputs": [],
   "source": [
    "# problem definition\n",
    "f_design_space = 'design_space.csv'       # File name (box constraints for design variables)\n",
    "f_sample = 'sample.csv'                   # File name (training data)\n",
    "n_add = 5                                 # Number of additional sample points to be generated\n",
    "nf = 2                                    # Number of objective functions\n",
    "MIN = np.full(nf, True)                   # True=Minimization, False=Maximization for each objective function\n",
    "NOISE = np.full(nf, False)                # Use True if functions are noisy (Griewank, Rastrigin, DTLZ1, etc.) for each objective function"
   ]
  },
  {
   "cell_type": "markdown",
   "id": "ec52c5e7-3a1c-4db7-84cb-41fbbaba66e1",
   "metadata": {},
   "source": [
    "#### Parameter definition  \n",
    "You do not need to edit here if you are not familier with evolutionary computation"
   ]
  },
  {
   "cell_type": "code",
   "execution_count": 3,
   "id": "b6e1032b-0752-4c34-82cf-7c5fcee69fc7",
   "metadata": {},
   "outputs": [],
   "source": [
    "division = pd.read_csv('reference_vector_division.csv', index_col=0)\n",
    "CRITERIA = 'EPBII'                        # EPBII or EIPBII\n",
    "VER2021 = True                            # True=2021 version, False=2017 version\n",
    "SRVA = True                               # True=surrogate-assisted reference vector adaptation, False=two-layered simplex latice-design\n",
    "OPTIMIZER = 'NSGA3'                       # NSGA3 or NSGA2 for ideal and nadir point determination (and reference vector adaptation if VER2021=True)\n",
    "# Reference vector for EPBII\n",
    "n_randvec = division.loc[nf, 'n']         # Number of adaptive reference vector (>=0)\n",
    "nh = 0                                    # If VER2021=False, division number for the outer layer of the two-layered simplex latice-design (>=0)\n",
    "nhin = 0                                  # If VER2021=False, division number for the inner layer of the two-layered simplex latice-design (>=0)\n",
    "# NSGA3 if OPTIMIZER=NSGA3:\n",
    "n_randvec_nsga3 = 0                       # Number of random reference vector (>=0)\n",
    "nh_nsga3 = division.loc[nf, 'nh_ga']      # Division number for the outer layer of the two-layered simplex latice-design (>=0)\n",
    "nhin_nsga3 = division.loc[nf, 'nhin_ga']  # Division number for the inner layer of the two-layered simplex latice-design (>=0)\n",
    "ngen_nsga3 = 200                          # Number of generation in NSGA3\n",
    "# NSGA2 if OPTIMIZER=NSGA2:\n",
    "npop_nsga2 = division.loc[nf, 'n_ga']     # Number of population in NSGA2\n",
    "ngen_nsga2 = 200                          # Number of generation in NSGA2"
   ]
  },
  {
   "cell_type": "markdown",
   "id": "b1ec37af-d8ac-4c13-a98e-907a1f1ee82e",
   "metadata": {},
   "source": [
    "### 2. Initialization"
   ]
  },
  {
   "cell_type": "code",
   "execution_count": 4,
   "id": "ae83e8f4-7a6a-4ab5-bf5e-7f0d41ebc28f",
   "metadata": {},
   "outputs": [],
   "source": [
    "gp = Kriging(MIN, CRITERIA, n_add, n_randvec, nh, nhin, n_randvec_nsga3, nh_nsga3, nhin_nsga3, ngen_nsga3, npop_nsga2, ngen_nsga2, VER2021, SRVA, OPTIMIZER, pbi_theta=1.0)\n",
    "gp.read_sample(f_sample)\n",
    "gp.normalize_x(f_design_space)"
   ]
  },
  {
   "cell_type": "markdown",
   "id": "a81f74f8-b88f-483d-afb0-1916b76aae1f",
   "metadata": {},
   "source": [
    "### 3. Model training: likelihood maximization with genetic algorithm (GA)\n",
    "* theta0: hyperparameters in Kriging models have values in (0, 10**theta0]\n",
    "* npop: number of population in GA\n",
    "* ngen: maximum number of generation in GA\n",
    "* mingen: minimum number of generation in GA\n",
    "* STOP: True=training will be terminated if convergence condition is satisfied before ngen\n",
    "* PRINT: True=print GA log"
   ]
  },
  {
   "cell_type": "code",
   "execution_count": 5,
   "id": "3839b5d8-c8cd-4858-8e81-5b38d986a46c",
   "metadata": {},
   "outputs": [
    {
     "name": "stdout",
     "output_type": "stream",
     "text": [
      "--- 1-th function estimation -------------------\n",
      "--- 2-th function estimation -------------------\n"
     ]
    }
   ],
   "source": [
    "warnings.simplefilter('ignore')\n",
    "gp.kriging_training(theta0 = 3.0, npop = 500, ngen = 500, mingen=0, STOP=True, NOISE=NOISE, PRINT=False)"
   ]
  },
  {
   "cell_type": "markdown",
   "id": "5d03ef34-1bb3-4acf-99c0-e0f947e2d6c1",
   "metadata": {},
   "source": [
    "### 4. Additional sample generation: EPBII/EIPBII maximization with MOEA/D"
   ]
  },
  {
   "cell_type": "code",
   "execution_count": 6,
   "id": "e30c9054-0fba-4bc1-a0d4-4f3b71940125",
   "metadata": {},
   "outputs": [
    {
     "name": "stdout",
     "output_type": "stream",
     "text": [
      "Multi-objective optimization on the Kriging models\n",
      "Single objective optimization for the 1-th objective function\n",
      "Single objective optimization for the 2-th objective function\n",
      "EPBII maximization with MOEA/D\n"
     ]
    },
    {
     "data": {
      "text/html": [
       "<div>\n",
       "<style scoped>\n",
       "    .dataframe tbody tr th:only-of-type {\n",
       "        vertical-align: middle;\n",
       "    }\n",
       "\n",
       "    .dataframe tbody tr th {\n",
       "        vertical-align: top;\n",
       "    }\n",
       "\n",
       "    .dataframe thead th {\n",
       "        text-align: right;\n",
       "    }\n",
       "</style>\n",
       "<table border=\"1\" class=\"dataframe\">\n",
       "  <thead>\n",
       "    <tr style=\"text-align: right;\">\n",
       "      <th></th>\n",
       "      <th>x1</th>\n",
       "      <th>x2</th>\n",
       "      <th>f1</th>\n",
       "      <th>f2</th>\n",
       "    </tr>\n",
       "  </thead>\n",
       "  <tbody>\n",
       "    <tr>\n",
       "      <th>0</th>\n",
       "      <td>0.843714</td>\n",
       "      <td>6.982057e-11</td>\n",
       "      <td>0.843714</td>\n",
       "      <td>-1.032048</td>\n",
       "    </tr>\n",
       "    <tr>\n",
       "      <th>1</th>\n",
       "      <td>0.228828</td>\n",
       "      <td>1.248450e-15</td>\n",
       "      <td>0.228828</td>\n",
       "      <td>0.351005</td>\n",
       "    </tr>\n",
       "    <tr>\n",
       "      <th>2</th>\n",
       "      <td>0.002392</td>\n",
       "      <td>1.478624e-11</td>\n",
       "      <td>0.002392</td>\n",
       "      <td>0.987405</td>\n",
       "    </tr>\n",
       "    <tr>\n",
       "      <th>3</th>\n",
       "      <td>0.429100</td>\n",
       "      <td>4.301698e-15</td>\n",
       "      <td>0.429100</td>\n",
       "      <td>0.062524</td>\n",
       "    </tr>\n",
       "    <tr>\n",
       "      <th>4</th>\n",
       "      <td>0.033087</td>\n",
       "      <td>4.846613e-12</td>\n",
       "      <td>0.033088</td>\n",
       "      <td>0.784201</td>\n",
       "    </tr>\n",
       "  </tbody>\n",
       "</table>\n",
       "</div>"
      ],
      "text/plain": [
       "         x1            x2        f1        f2\n",
       "0  0.843714  6.982057e-11  0.843714 -1.032048\n",
       "1  0.228828  1.248450e-15  0.228828  0.351005\n",
       "2  0.002392  1.478624e-11  0.002392  0.987405\n",
       "3  0.429100  4.301698e-15  0.429100  0.062524\n",
       "4  0.033087  4.846613e-12  0.033088  0.784201"
      ]
     },
     "execution_count": 6,
     "metadata": {},
     "output_type": "execute_result"
    }
   ],
   "source": [
    "x_add, f_add_est = gp.kriging_infill(PLOT=False, PRINT=False)\n",
    "add_sample = pd.DataFrame(np.hstack([x_add, f_add_est]), columns=np.hstack(['x'+np.arange(1,1+gp.nx).astype(str).astype(object), 'f'+np.arange(1,1+gp.nf).astype(str).astype(object), 'g'+np.arange(1,1+gp.ng).astype(str).astype(object)]))\n",
    "add_sample"
   ]
  },
  {
   "cell_type": "markdown",
   "id": "d72d39ab-5367-4102-9f25-38598718cb41",
   "metadata": {},
   "source": [
    "### 5. Visualization (2 and 3 objective cases)"
   ]
  },
  {
   "cell_type": "code",
   "execution_count": 7,
   "id": "de939b26-5e33-437b-849b-eeece5ee5ddd",
   "metadata": {},
   "outputs": [
    {
     "data": {
      "image/png": "[encoded data removed]",
      "text/plain": [
       "<Figure size 432x288 with 1 Axes>"
      ]
     },
     "metadata": {
      "needs_background": "light"
     },
     "output_type": "display_data"
    }
   ],
   "source": [
    "#%matplotlib notebook\n",
    "rank = gp.pareto_ranking(gp.f, gp.g)\n",
    "if gp.nf == 2:\n",
    "    plt.figure('2D Objective-space with '+str(gp.ns)+'-samples')\n",
    "    plt.scatter(gp.f[:,0], gp.f[:,1], marker='o', c='black', s=10, label='sample points')\n",
    "    plt.scatter(gp.f_opt[:,0], gp.f_opt[:,1], marker='o', c='grey', s=10, label='estimated PF')\n",
    "    plt.plot(gp.utopia[0], gp.utopia[1], '+', c='black', label='utopia point')\n",
    "    plt.plot(gp.nadir[0], gp.nadir[1], '+', c='black', label='nadir point')\n",
    "    plt.scatter(gp.f_candidate[:,0], gp.f_candidate[:,1], c=gp.fitness_org, cmap='jet', marker='o', s=40, label='candidate points')\n",
    "    plt.scatter(f_add_est[:,0],f_add_est[:,1], facecolors='none', edgecolors='magenta', marker='o', s=60, linewidth=2, label='selected candidate points')\n",
    "    plt.legend(bbox_to_anchor=(1.01, 1.0), loc='upper left')\n",
    "elif gp.nf == 3:\n",
    "    fig = plt.figure('3D Objective-space with '+str(gp.ns)+'-samples')\n",
    "    ax = Axes3D(fig)\n",
    "    # ax.scatter3D(gp.f[rank>1,0], gp.f[rank>1,1], gp.f[rank>1,2], marker='o', c='black', s=10, label='sample points')\n",
    "    # ax.scatter3D(gp.f_opt[:,0], gp.f_opt[:,1], gp.f_opt[:,2], marker='o', c='grey', s=10, alpha=0.5, label='estimated PF')\n",
    "    ax.scatter3D(gp.f[rank==1,0], gp.f[rank==1,1], gp.f[rank==1,2], marker='o', c='blue', s=20, label='NDSs among sample points')\n",
    "    ax.scatter3D(gp.f_candidate[:,0], gp.f_candidate[:,1], gp.f_candidate[:,2], c=gp.fitness_org, cmap='jet', marker='*', s=40, label='candidate points')\n",
    "    ax.scatter3D(f_add_est[:,0], f_add_est[:,1], f_add_est[:,-1], marker='o', c='none', edgecolor='magenta', s=60, linewidth=2, label='selected candidate points')\n",
    "    ax.view_init(elev=30, azim=45)\n",
    "    plt.legend(bbox_to_anchor=(1.01, 1.0), loc='upper left')"
   ]
  },
  {
   "cell_type": "markdown",
   "id": "b029d5bc-ef68-4f22-bb36-49fbc9cd0d76",
   "metadata": {},
   "source": [
    "### 6. File output\n",
    "* Evaluate objective functions of the lowest n_add sample points and overwrite the generated file\n",
    "* Return to \"1. Setup\" and use the file as \"f_sample\" for the next iteration"
   ]
  },
  {
   "cell_type": "code",
   "execution_count": 8,
   "id": "15b4763e-0ce1-400e-8356-a8de191f64ec",
   "metadata": {},
   "outputs": [],
   "source": [
    "path, extension = os.path.splitext(f_sample)\n",
    "f_sample_out =  path + '_' + str(gp.ns+n_add) + extension\n",
    "shutil.copyfile(f_sample, f_sample_out)\n",
    "with open(f_sample_out, 'a') as file:\n",
    "    np.savetxt(file, x_add, delimiter=',')"
   ]
  },
  {
   "cell_type": "markdown",
   "id": "c4a7418b-9f1f-4069-a011-f995059eb07a",
   "metadata": {},
   "source": [
    "### Appendix: objective function evaluation for the sample problem (ZDT3)\n",
    "* You can evaluate the objective functions and update the file generated at \"6. File output\"\n",
    "* Automatic iteration can be executed with **EGO_main.py**"
   ]
  },
  {
   "cell_type": "code",
   "execution_count": 9,
   "id": "23e7863b-ae73-4542-aa29-e2fe13d87730",
   "metadata": {},
   "outputs": [],
   "source": [
    "f_add = np.array([test_problem.ZDT3(x_add[i,:]) for i in range(n_add)])\n",
    "path, extension = os.path.splitext(f_sample)\n",
    "f_sample_zdt3 =  path + '_' + str(gp.ns+n_add) + '_ZDT3' + extension\n",
    "shutil.copyfile(f_sample, f_sample_zdt3)\n",
    "with open(f_sample_zdt3, 'a') as file:\n",
    "    np.savetxt(file, np.hstack([x_add, f_add]), delimiter=',')"
   ]
  },
  {
   "cell_type": "code",
   "execution_count": null,
   "id": "f5e831e0-d34e-4f0d-a1e6-421b883441c0",
   "metadata": {},
   "outputs": [],
   "source": []
  }
 ],
 "metadata": {
  "kernelspec": {
   "display_name": "Python 3",
   "language": "python",
   "name": "python3"
  },
  "language_info": {
   "codemirror_mode": {
    "name": "ipython",
    "version": 3
   },
   "file_extension": ".py",
   "mimetype": "text/x-python",
   "name": "python",
   "nbconvert_exporter": "python",
   "pygments_lexer": "ipython3",
   "version": "3.6.13"
  }
 },
 "nbformat": 4,
 "nbformat_minor": 5
}
